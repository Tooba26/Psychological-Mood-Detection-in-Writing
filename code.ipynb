{
 "cells": [
  {
   "cell_type": "code",
   "execution_count": 1,
   "metadata": {},
   "outputs": [
    {
     "name": "stderr",
     "output_type": "stream",
     "text": [
      "c:\\Users\\acer\\AppData\\Local\\Programs\\Python\\Python312\\Lib\\site-packages\\tqdm\\auto.py:21: TqdmWarning: IProgress not found. Please update jupyter and ipywidgets. See https://ipywidgets.readthedocs.io/en/stable/user_install.html\n",
      "  from .autonotebook import tqdm as notebook_tqdm\n",
      "c:\\Users\\acer\\AppData\\Local\\Programs\\Python\\Python312\\Lib\\site-packages\\huggingface_hub\\file_download.py:140: UserWarning: `huggingface_hub` cache-system uses symlinks by default to efficiently store duplicated files but your machine does not support them in C:\\Users\\acer\\.cache\\huggingface\\hub\\datasets--solomonk--reddit_mental_health_posts. Caching files will still work but in a degraded version that might require more space on your disk. This warning can be disabled by setting the `HF_HUB_DISABLE_SYMLINKS_WARNING` environment variable. For more details, see https://huggingface.co/docs/huggingface_hub/how-to-cache#limitations.\n",
      "To support symlinks on Windows, you either need to activate Developer Mode or to run Python as an administrator. In order to activate developer mode, see this article: https://docs.microsoft.com/en-us/windows/apps/get-started/enable-your-device-for-development\n",
      "  warnings.warn(message)\n",
      "Repo card metadata block was not found. Setting CardData to empty.\n",
      "Generating train split: 100%|██████████| 151288/151288 [00:03<00:00, 41134.01 examples/s]\n"
     ]
    }
   ],
   "source": [
    "from datasets import load_dataset\n",
    "\n",
    "ds = load_dataset(\"solomonk/reddit_mental_health_posts\")"
   ]
  },
  {
   "cell_type": "code",
   "execution_count": 3,
   "metadata": {},
   "outputs": [
    {
     "data": {
      "text/plain": [
       "DatasetDict({\n",
       "    train: Dataset({\n",
       "        features: ['author', 'body', 'created_utc', 'id', 'num_comments', 'score', 'subreddit', 'title', 'upvote_ratio', 'url'],\n",
       "        num_rows: 151288\n",
       "    })\n",
       "})"
      ]
     },
     "execution_count": 3,
     "metadata": {},
     "output_type": "execute_result"
    }
   ],
   "source": [
    "ds"
   ]
  },
  {
   "cell_type": "code",
   "execution_count": 4,
   "metadata": {},
   "outputs": [],
   "source": [
    "import pandas as pd"
   ]
  },
  {
   "cell_type": "code",
   "execution_count": 6,
   "metadata": {},
   "outputs": [],
   "source": [
    "df1 = pd.read_csv('Datasets/Original Reddit Data/Labelled Data/LD DA 1.csv')"
   ]
  },
  {
   "cell_type": "code",
   "execution_count": 7,
   "metadata": {},
   "outputs": [
    {
     "data": {
      "text/html": [
       "<div>\n",
       "<style scoped>\n",
       "    .dataframe tbody tr th:only-of-type {\n",
       "        vertical-align: middle;\n",
       "    }\n",
       "\n",
       "    .dataframe tbody tr th {\n",
       "        vertical-align: top;\n",
       "    }\n",
       "\n",
       "    .dataframe thead th {\n",
       "        text-align: right;\n",
       "    }\n",
       "</style>\n",
       "<table border=\"1\" class=\"dataframe\">\n",
       "  <thead>\n",
       "    <tr style=\"text-align: right;\">\n",
       "      <th></th>\n",
       "      <th>score</th>\n",
       "      <th>selftext</th>\n",
       "      <th>subreddit</th>\n",
       "      <th>title</th>\n",
       "      <th>Label</th>\n",
       "    </tr>\n",
       "  </thead>\n",
       "  <tbody>\n",
       "    <tr>\n",
       "      <th>0</th>\n",
       "      <td>1.0</td>\n",
       "      <td>Tried to watch this documentary “anxious Ameri...</td>\n",
       "      <td>Anxiety</td>\n",
       "      <td>Do people get over anxiety?</td>\n",
       "      <td>Drug and Alcohol</td>\n",
       "    </tr>\n",
       "    <tr>\n",
       "      <th>1</th>\n",
       "      <td>1.0</td>\n",
       "      <td>i’m currently laying in bed wide awake, feelin...</td>\n",
       "      <td>Anxiety</td>\n",
       "      <td>does anyone else have this big fear of suddenl...</td>\n",
       "      <td>Drug and Alcohol</td>\n",
       "    </tr>\n",
       "    <tr>\n",
       "      <th>2</th>\n",
       "      <td>2.0</td>\n",
       "      <td>Second time trying weed. First time felt close...</td>\n",
       "      <td>Anxiety</td>\n",
       "      <td>3 hour long panic attack after trying weed</td>\n",
       "      <td>Drug and Alcohol</td>\n",
       "    </tr>\n",
       "    <tr>\n",
       "      <th>3</th>\n",
       "      <td>1.0</td>\n",
       "      <td>I am not posting this for me, but rather for m...</td>\n",
       "      <td>Anxiety</td>\n",
       "      <td>Please leave in the comments ANYTHING that has...</td>\n",
       "      <td>Drug and Alcohol</td>\n",
       "    </tr>\n",
       "    <tr>\n",
       "      <th>4</th>\n",
       "      <td>1.0</td>\n",
       "      <td>21 year old male been dealing with anxiety eve...</td>\n",
       "      <td>Anxiety</td>\n",
       "      <td>Alcohol induced</td>\n",
       "      <td>Drug and Alcohol</td>\n",
       "    </tr>\n",
       "  </tbody>\n",
       "</table>\n",
       "</div>"
      ],
      "text/plain": [
       "   score                                           selftext subreddit  \\\n",
       "0    1.0  Tried to watch this documentary “anxious Ameri...   Anxiety   \n",
       "1    1.0  i’m currently laying in bed wide awake, feelin...   Anxiety   \n",
       "2    2.0  Second time trying weed. First time felt close...   Anxiety   \n",
       "3    1.0  I am not posting this for me, but rather for m...   Anxiety   \n",
       "4    1.0  21 year old male been dealing with anxiety eve...   Anxiety   \n",
       "\n",
       "                                               title             Label  \n",
       "0                        Do people get over anxiety?  Drug and Alcohol  \n",
       "1  does anyone else have this big fear of suddenl...  Drug and Alcohol  \n",
       "2         3 hour long panic attack after trying weed  Drug and Alcohol  \n",
       "3  Please leave in the comments ANYTHING that has...  Drug and Alcohol  \n",
       "4                                    Alcohol induced  Drug and Alcohol  "
      ]
     },
     "execution_count": 7,
     "metadata": {},
     "output_type": "execute_result"
    }
   ],
   "source": [
    "df1.head()"
   ]
  },
  {
   "cell_type": "code",
   "execution_count": 8,
   "metadata": {},
   "outputs": [],
   "source": [
    "df2  =pd.read_csv('Datasets/data_to_be_cleansed.csv')"
   ]
  },
  {
   "cell_type": "code",
   "execution_count": 9,
   "metadata": {},
   "outputs": [
    {
     "data": {
      "text/html": [
       "<div>\n",
       "<style scoped>\n",
       "    .dataframe tbody tr th:only-of-type {\n",
       "        vertical-align: middle;\n",
       "    }\n",
       "\n",
       "    .dataframe tbody tr th {\n",
       "        vertical-align: top;\n",
       "    }\n",
       "\n",
       "    .dataframe thead th {\n",
       "        text-align: right;\n",
       "    }\n",
       "</style>\n",
       "<table border=\"1\" class=\"dataframe\">\n",
       "  <thead>\n",
       "    <tr style=\"text-align: right;\">\n",
       "      <th></th>\n",
       "      <th>Unnamed: 0</th>\n",
       "      <th>text</th>\n",
       "      <th>title</th>\n",
       "      <th>target</th>\n",
       "    </tr>\n",
       "  </thead>\n",
       "  <tbody>\n",
       "    <tr>\n",
       "      <th>0</th>\n",
       "      <td>0</td>\n",
       "      <td>Welcome to /r/depression's check-in post - a p...</td>\n",
       "      <td>Regular check-in post, with information about ...</td>\n",
       "      <td>1</td>\n",
       "    </tr>\n",
       "    <tr>\n",
       "      <th>1</th>\n",
       "      <td>1</td>\n",
       "      <td>We understand that most people who reply immed...</td>\n",
       "      <td>Our most-broken and least-understood rules is ...</td>\n",
       "      <td>1</td>\n",
       "    </tr>\n",
       "    <tr>\n",
       "      <th>2</th>\n",
       "      <td>2</td>\n",
       "      <td>Anyone else just miss physical touch? I crave ...</td>\n",
       "      <td>I haven’t been touched, or even hugged, in so ...</td>\n",
       "      <td>1</td>\n",
       "    </tr>\n",
       "    <tr>\n",
       "      <th>3</th>\n",
       "      <td>3</td>\n",
       "      <td>I’m just so ashamed. Everyone and everything f...</td>\n",
       "      <td>Being Depressed is Embarrassing</td>\n",
       "      <td>1</td>\n",
       "    </tr>\n",
       "    <tr>\n",
       "      <th>4</th>\n",
       "      <td>4</td>\n",
       "      <td>I really need a friend. I don't even have a si...</td>\n",
       "      <td>I'm desperate for a friend and to feel loved b...</td>\n",
       "      <td>1</td>\n",
       "    </tr>\n",
       "    <tr>\n",
       "      <th>...</th>\n",
       "      <td>...</td>\n",
       "      <td>...</td>\n",
       "      <td>...</td>\n",
       "      <td>...</td>\n",
       "    </tr>\n",
       "    <tr>\n",
       "      <th>5952</th>\n",
       "      <td>1183</td>\n",
       "      <td>I’ve (24M) dealt with depression/anxiety for y...</td>\n",
       "      <td>Nobody takes me seriously</td>\n",
       "      <td>4</td>\n",
       "    </tr>\n",
       "    <tr>\n",
       "      <th>5953</th>\n",
       "      <td>1184</td>\n",
       "      <td>\"I don't feel very good, it's like I don't be...</td>\n",
       "      <td>selfishness</td>\n",
       "      <td>4</td>\n",
       "    </tr>\n",
       "    <tr>\n",
       "      <th>5954</th>\n",
       "      <td>1185</td>\n",
       "      <td>I can't sleep most of the nights, meds didn't ...</td>\n",
       "      <td>Is there any way to sleep better?</td>\n",
       "      <td>4</td>\n",
       "    </tr>\n",
       "    <tr>\n",
       "      <th>5955</th>\n",
       "      <td>1186</td>\n",
       "      <td>Hi, all. I have to give a presentation at work...</td>\n",
       "      <td>Public speaking tips?</td>\n",
       "      <td>4</td>\n",
       "    </tr>\n",
       "    <tr>\n",
       "      <th>5956</th>\n",
       "      <td>1187</td>\n",
       "      <td>It's not about being scared I didn't lock the ...</td>\n",
       "      <td>I have really bad door anxiety!</td>\n",
       "      <td>4</td>\n",
       "    </tr>\n",
       "  </tbody>\n",
       "</table>\n",
       "<p>5957 rows × 4 columns</p>\n",
       "</div>"
      ],
      "text/plain": [
       "      Unnamed: 0                                               text  \\\n",
       "0              0  Welcome to /r/depression's check-in post - a p...   \n",
       "1              1  We understand that most people who reply immed...   \n",
       "2              2  Anyone else just miss physical touch? I crave ...   \n",
       "3              3  I’m just so ashamed. Everyone and everything f...   \n",
       "4              4  I really need a friend. I don't even have a si...   \n",
       "...          ...                                                ...   \n",
       "5952        1183  I’ve (24M) dealt with depression/anxiety for y...   \n",
       "5953        1184   \"I don't feel very good, it's like I don't be...   \n",
       "5954        1185  I can't sleep most of the nights, meds didn't ...   \n",
       "5955        1186  Hi, all. I have to give a presentation at work...   \n",
       "5956        1187  It's not about being scared I didn't lock the ...   \n",
       "\n",
       "                                                  title  target  \n",
       "0     Regular check-in post, with information about ...       1  \n",
       "1     Our most-broken and least-understood rules is ...       1  \n",
       "2     I haven’t been touched, or even hugged, in so ...       1  \n",
       "3                       Being Depressed is Embarrassing       1  \n",
       "4     I'm desperate for a friend and to feel loved b...       1  \n",
       "...                                                 ...     ...  \n",
       "5952                          Nobody takes me seriously       4  \n",
       "5953                                        selfishness       4  \n",
       "5954                  Is there any way to sleep better?       4  \n",
       "5955                              Public speaking tips?       4  \n",
       "5956                    I have really bad door anxiety!       4  \n",
       "\n",
       "[5957 rows x 4 columns]"
      ]
     },
     "execution_count": 9,
     "metadata": {},
     "output_type": "execute_result"
    }
   ],
   "source": [
    "df2"
   ]
  },
  {
   "cell_type": "code",
   "execution_count": null,
   "metadata": {},
   "outputs": [],
   "source": []
  }
 ],
 "metadata": {
  "kernelspec": {
   "display_name": "Python 3",
   "language": "python",
   "name": "python3"
  },
  "language_info": {
   "codemirror_mode": {
    "name": "ipython",
    "version": 3
   },
   "file_extension": ".py",
   "mimetype": "text/x-python",
   "name": "python",
   "nbconvert_exporter": "python",
   "pygments_lexer": "ipython3",
   "version": "3.12.5"
  }
 },
 "nbformat": 4,
 "nbformat_minor": 2
}
